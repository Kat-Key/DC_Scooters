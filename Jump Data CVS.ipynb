{
 "cells": [
  {
   "cell_type": "code",
   "execution_count": 3,
   "metadata": {
    "scrolled": true
   },
   "outputs": [
    {
     "name": "stdout",
     "output_type": "stream",
     "text": [
      "                                    bike_id        lat        lon  \\\n",
      "0      00a91b24-a821-41c1-8b0a-d1183125056c  38.907323 -77.041798   \n",
      "1      01bc35ef-9bed-4fa3-af9f-ba682e7d1ce0  38.887750 -77.014960   \n",
      "2      01fdf74b-60ea-44e1-aa4a-7cc1e0adb128  38.861923 -77.050683   \n",
      "3      025670ca-4433-4e91-a8c4-194b2c87903a  38.902586 -77.046631   \n",
      "4      0259045b-c447-4fdc-8dae-f4a4230baa39  38.805553 -77.042273   \n",
      "...                                     ...        ...        ...   \n",
      "22302  fef0ac39-766c-4981-aed8-102db944e52d  38.874670 -77.104365   \n",
      "22303  ff36d115-8d4a-4e47-8cee-9d8f9129e5b0  38.916873 -77.028075   \n",
      "22304  ff4b5c55-d4d4-47ac-a2e1-6f925e4f4292  38.882825 -77.013628   \n",
      "22305  ff62819f-3be7-420f-aba0-9e3981dd5bc3  38.863780 -77.048770   \n",
      "22306  ff71dcac-530e-4919-b0be-614782904351  38.888741 -77.093293   \n",
      "\n",
      "       is_reserved  is_disabled jump_vehicle_type jump_ebike_battery_level  \\\n",
      "0                0            0           scooter                      91%   \n",
      "1                0            0           scooter                      32%   \n",
      "2                0            0           scooter                      35%   \n",
      "3                0            0           scooter                      37%   \n",
      "4                0            0           scooter                      25%   \n",
      "...            ...          ...               ...                      ...   \n",
      "22302            0            0           scooter                      82%   \n",
      "22303            0            0           scooter                      93%   \n",
      "22304            0            0           scooter                      45%   \n",
      "22305            0            0           scooter                      73%   \n",
      "22306            0            0           scooter                      83%   \n",
      "\n",
      "      jump_vehicle_name                filename Month Day    Time    Company  \n",
      "0                NKP307  11-14-1215PM-Jump.json    11  14  1215PM  Jump.json  \n",
      "1                UYM823  11-14-1215PM-Jump.json    11  14  1215PM  Jump.json  \n",
      "2                RAC150  11-14-1215PM-Jump.json    11  14  1215PM  Jump.json  \n",
      "3                CZW307  11-14-1215PM-Jump.json    11  14  1215PM  Jump.json  \n",
      "4                TLC192  11-14-1215PM-Jump.json    11  14  1215PM  Jump.json  \n",
      "...                 ...                     ...   ...  ..     ...        ...  \n",
      "22302            ULD866   11-22-930PM-Jump.json    11  22   930PM  Jump.json  \n",
      "22303            ERQ885   11-22-930PM-Jump.json    11  22   930PM  Jump.json  \n",
      "22304            FDY961   11-22-930PM-Jump.json    11  22   930PM  Jump.json  \n",
      "22305            URV476   11-22-930PM-Jump.json    11  22   930PM  Jump.json  \n",
      "22306            SEG153   11-22-930PM-Jump.json    11  22   930PM  Jump.json  \n",
      "\n",
      "[22307 rows x 13 columns]\n"
     ]
    }
   ],
   "source": [
    "import os\n",
    "import pandas as pd\n",
    "import json\n",
    "filepath = 'C:\\\\Users\\\\Invario\\\\Desktop\\\\Data_Downloads_byCompany\\\\Jump'\n",
    "jump_file=pd.DataFrame()\n",
    "entries = os.listdir(filepath)\n",
    "for entry in entries:\n",
    "    with open(filepath + \"\\\\\" + entry) as data_file:    \n",
    "        data_bike = json.load(data_file)  \n",
    "        data = data_bike[\"data\"]\n",
    "        #print(bike)\n",
    "        #bikes = data[\"bikes\"]\n",
    "        #print(bikes)\n",
    "        df = pd.DataFrame.from_dict(data, orient='columns')\n",
    "        #print(df)\n",
    "        df2 = pd.DataFrame(df.bikes.tolist(), columns=['bike_id', 'lat', 'lon',  'is_reserved',  'is_disabled', 'jump_vehicle_type', 'jump_ebike_battery_level', 'jump_vehicle_name'])\n",
    "        df2['filename'] = os.path.basename(entry)\n",
    "        df2[['Month','Day','Time', 'Company']] = df2.filename.str.split(\"-\",expand=True,)\n",
    "    jump_file=jump_file.append(df2,ignore_index=True)\n",
    "\n",
    "print(jump_file)\n",
    "\n",
    "\n",
    " \n",
    "\n",
    "        \n",
    "    "
   ]
  },
  {
   "cell_type": "code",
   "execution_count": 4,
   "metadata": {},
   "outputs": [],
   "source": [
    "jump_file.to_csv('jump_consolidated.csv')"
   ]
  },
  {
   "cell_type": "code",
   "execution_count": null,
   "metadata": {},
   "outputs": [],
   "source": []
  }
 ],
 "metadata": {
  "kernelspec": {
   "display_name": "Python 3",
   "language": "python",
   "name": "python3"
  },
  "language_info": {
   "codemirror_mode": {
    "name": "ipython",
    "version": 3
   },
   "file_extension": ".py",
   "mimetype": "text/x-python",
   "name": "python",
   "nbconvert_exporter": "python",
   "pygments_lexer": "ipython3",
   "version": "3.7.4"
  }
 },
 "nbformat": 4,
 "nbformat_minor": 2
}
