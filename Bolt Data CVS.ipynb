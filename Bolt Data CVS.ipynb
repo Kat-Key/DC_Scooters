{
 "cells": [
  {
   "cell_type": "code",
   "execution_count": 2,
   "metadata": {},
   "outputs": [
    {
     "name": "stdout",
     "output_type": "stream",
     "text": [
      "         bike_id        lat         lon  is_reserved  is_disabled  \\\n",
      "0     1100f8167c  38.924955  -77.101271            0            0   \n",
      "1     4793143cb0  38.884046  -76.995235            0            0   \n",
      "2     2525596fbd  38.914165  -77.022127            0            0   \n",
      "3     a1c79541d2  38.924045  -76.989081            0            0   \n",
      "4     64f7441f18  38.887453  -77.025732            0            0   \n",
      "...          ...        ...         ...          ...          ...   \n",
      "4830  6c3f86ac90  38.876520  -77.000380            0            0   \n",
      "4831  174a3a55ea  38.905567  -76.994241            0            0   \n",
      "4832  02d860cc21  38.895367  -76.948930            0            0   \n",
      "4833  6d277917d0  38.936817  -77.024067            0            0   \n",
      "4834  0f414dd626  38.964347  -77.024171            0            0   \n",
      "\n",
      "                    filename Month Day    Time    Company  \n",
      "0     11-14-1215PM-Bolt.json    11  14  1215PM  Bolt.json  \n",
      "1     11-14-1215PM-Bolt.json    11  14  1215PM  Bolt.json  \n",
      "2     11-14-1215PM-Bolt.json    11  14  1215PM  Bolt.json  \n",
      "3     11-14-1215PM-Bolt.json    11  14  1215PM  Bolt.json  \n",
      "4     11-14-1215PM-Bolt.json    11  14  1215PM  Bolt.json  \n",
      "...                      ...   ...  ..     ...        ...  \n",
      "4830   11-22-930PM-Bolt.json    11  22   930PM  Bolt.json  \n",
      "4831   11-22-930PM-Bolt.json    11  22   930PM  Bolt.json  \n",
      "4832   11-22-930PM-Bolt.json    11  22   930PM  Bolt.json  \n",
      "4833   11-22-930PM-Bolt.json    11  22   930PM  Bolt.json  \n",
      "4834   11-22-930PM-Bolt.json    11  22   930PM  Bolt.json  \n",
      "\n",
      "[4835 rows x 10 columns]\n"
     ]
    }
   ],
   "source": [
    "import os\n",
    "import pandas as pd\n",
    "import json\n",
    "filepath = 'C:\\\\Users\\\\Invario\\\\Desktop\\\\Data_Downloads_byCompany\\\\Bolt'\n",
    "bolt_file=pd.DataFrame()\n",
    "entries = os.listdir(filepath)\n",
    "for entry in entries:\n",
    "    with open(filepath + \"\\\\\" + entry) as data_file:    \n",
    "        data_bike = json.load(data_file)  \n",
    "        data = data_bike[\"data\"]\n",
    "        #print(bike)\n",
    "        #bikes = data[\"bikes\"]\n",
    "        #print(bikes)\n",
    "        df = pd.DataFrame.from_dict(data, orient='columns')\n",
    "        #print(df)\n",
    "        df2 = pd.DataFrame(df.bikes.tolist(), columns=['bike_id', 'lat', 'lon',  'is_reserved',  'is_disabled',])\n",
    "        df2['filename'] = os.path.basename(entry)\n",
    "        df2[['Month','Day','Time', 'Company']] = df2.filename.str.split(\"-\",expand=True,)\n",
    "    bolt_file=bolt_file.append(df2,ignore_index=True)\n",
    "\n",
    "print(bolt_file)\n",
    "\n",
    "\n",
    " \n",
    "\n",
    "        \n",
    "    "
   ]
  },
  {
   "cell_type": "code",
   "execution_count": 3,
   "metadata": {},
   "outputs": [],
   "source": [
    "bolt_file.to_csv('bolt_consolidated.csv')"
   ]
  },
  {
   "cell_type": "code",
   "execution_count": null,
   "metadata": {},
   "outputs": [],
   "source": []
  }
 ],
 "metadata": {
  "kernelspec": {
   "display_name": "Python 3",
   "language": "python",
   "name": "python3"
  },
  "language_info": {
   "codemirror_mode": {
    "name": "ipython",
    "version": 3
   },
   "file_extension": ".py",
   "mimetype": "text/x-python",
   "name": "python",
   "nbconvert_exporter": "python",
   "pygments_lexer": "ipython3",
   "version": "3.7.4"
  }
 },
 "nbformat": 4,
 "nbformat_minor": 2
}
