{
 "cells": [
  {
   "cell_type": "code",
   "execution_count": 1,
   "metadata": {
    "scrolled": true
   },
   "outputs": [
    {
     "name": "stdout",
     "output_type": "stream",
     "text": [
      "       bike_id       lat       lon vehicle_type  is_reserved  is_disabled  \\\n",
      "0      7013109  38.90589 -77.03144      scooter            0            0   \n",
      "1      2348893  38.89362 -77.04169      scooter            0            0   \n",
      "2      4008164  38.84737 -76.94694      scooter            0            0   \n",
      "3      7660618  38.93567 -77.05842      scooter            0            0   \n",
      "4      4128316  38.90279 -77.02960      scooter            0            0   \n",
      "...        ...       ...       ...          ...          ...          ...   \n",
      "23020  5011065  38.90108 -77.03476      scooter            0            0   \n",
      "23021  4405937  38.92326 -77.01960      scooter            0            0   \n",
      "23022  2761218  38.87456 -77.00392      scooter            0            0   \n",
      "23023  2630745  38.88073 -77.01325      scooter            0            0   \n",
      "23024  6248515  38.88498 -77.03000      scooter            0            0   \n",
      "\n",
      "                     filename Month Day    Time    Company  \n",
      "0      11-14-1215PM-Spin.json    11  14  1215PM  Spin.json  \n",
      "1      11-14-1215PM-Spin.json    11  14  1215PM  Spin.json  \n",
      "2      11-14-1215PM-Spin.json    11  14  1215PM  Spin.json  \n",
      "3      11-14-1215PM-Spin.json    11  14  1215PM  Spin.json  \n",
      "4      11-14-1215PM-Spin.json    11  14  1215PM  Spin.json  \n",
      "...                       ...   ...  ..     ...        ...  \n",
      "23020   11-22-930PM-Spin.json    11  22   930PM  Spin.json  \n",
      "23021   11-22-930PM-Spin.json    11  22   930PM  Spin.json  \n",
      "23022   11-22-930PM-Spin.json    11  22   930PM  Spin.json  \n",
      "23023   11-22-930PM-Spin.json    11  22   930PM  Spin.json  \n",
      "23024   11-22-930PM-Spin.json    11  22   930PM  Spin.json  \n",
      "\n",
      "[23025 rows x 11 columns]\n"
     ]
    }
   ],
   "source": [
    "import os\n",
    "import pandas as pd\n",
    "import json\n",
    "filepath = 'C:\\\\Users\\\\Invario\\\\Desktop\\\\Data_Downloads_byCompany\\\\Spin'\n",
    "spin_file=pd.DataFrame()\n",
    "entries = os.listdir(filepath)\n",
    "for entry in entries:\n",
    "    with open(filepath + \"\\\\\" + entry) as data_file:    \n",
    "        data_bike = json.load(data_file)  \n",
    "        data = data_bike[\"data\"]\n",
    "        #print(bike)\n",
    "        #bikes = data[\"bikes\"]\n",
    "        #print(bikes)\n",
    "        df = pd.DataFrame.from_dict(data, orient='columns')\n",
    "        #print(df)\n",
    "        df2 = pd.DataFrame(df.bikes.tolist(), columns=['bike_id', 'lat',  'lon',  'vehicle_type', 'is_reserved', 'is_disabled'])\n",
    "        df2['filename'] = os.path.basename(entry)\n",
    "        df2[['Month','Day','Time', 'Company']] = df2.filename.str.split(\"-\",expand=True,)\n",
    "    spin_file=spin_file.append(df2,ignore_index=True)\n",
    "\n",
    "print(spin_file)\n",
    "\n",
    "\n",
    " \n",
    "\n",
    "        \n",
    "    "
   ]
  },
  {
   "cell_type": "code",
   "execution_count": 2,
   "metadata": {},
   "outputs": [],
   "source": [
    "spin_file.to_csv('spin_consolidated.csv')"
   ]
  },
  {
   "cell_type": "code",
   "execution_count": null,
   "metadata": {},
   "outputs": [],
   "source": []
  }
 ],
 "metadata": {
  "kernelspec": {
   "display_name": "Python 3",
   "language": "python",
   "name": "python3"
  },
  "language_info": {
   "codemirror_mode": {
    "name": "ipython",
    "version": 3
   },
   "file_extension": ".py",
   "mimetype": "text/x-python",
   "name": "python",
   "nbconvert_exporter": "python",
   "pygments_lexer": "ipython3",
   "version": "3.7.4"
  }
 },
 "nbformat": 4,
 "nbformat_minor": 2
}
