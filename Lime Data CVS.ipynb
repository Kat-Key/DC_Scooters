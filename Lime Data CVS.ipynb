{
 "cells": [
  {
   "cell_type": "code",
   "execution_count": 1,
   "metadata": {
    "scrolled": true
   },
   "outputs": [
    {
     "name": "stdout",
     "output_type": "stream",
     "text": [
      "      bike_id      lat       lon  is_reserved  is_disabled vehicle_type  \\\n",
      "0        None  38.8636  -76.9896            0            0         bike   \n",
      "1        None  38.9449  -77.0262            0            0         bike   \n",
      "2        None  38.9303  -77.0379            1            0      scooter   \n",
      "3        None  38.9005   -76.983            1            0      scooter   \n",
      "4        None  38.9024   -77.021            0            0      scooter   \n",
      "...       ...      ...       ...          ...          ...          ...   \n",
      "20995    None  38.9027  -77.0138            0            0      scooter   \n",
      "20996    None  38.8984  -77.0415            0            0      scooter   \n",
      "20997    None  38.8907  -76.9895            0            0      scooter   \n",
      "20998    None  38.9027  -77.0641            0            0      scooter   \n",
      "20999    None  38.9457  -76.9974            0            0      scooter   \n",
      "\n",
      "                     filename Month Day    Time    Company  \n",
      "0      11-14-1215PM-Lime.json    11  14  1215PM  Lime.json  \n",
      "1      11-14-1215PM-Lime.json    11  14  1215PM  Lime.json  \n",
      "2      11-14-1215PM-Lime.json    11  14  1215PM  Lime.json  \n",
      "3      11-14-1215PM-Lime.json    11  14  1215PM  Lime.json  \n",
      "4      11-14-1215PM-Lime.json    11  14  1215PM  Lime.json  \n",
      "...                       ...   ...  ..     ...        ...  \n",
      "20995   11-22-930PM-Lime.json    11  22   930PM  Lime.json  \n",
      "20996   11-22-930PM-Lime.json    11  22   930PM  Lime.json  \n",
      "20997   11-22-930PM-Lime.json    11  22   930PM  Lime.json  \n",
      "20998   11-22-930PM-Lime.json    11  22   930PM  Lime.json  \n",
      "20999   11-22-930PM-Lime.json    11  22   930PM  Lime.json  \n",
      "\n",
      "[21000 rows x 11 columns]\n"
     ]
    }
   ],
   "source": [
    "import os\n",
    "import pandas as pd\n",
    "import json\n",
    "filepath = 'C:\\\\Users\\\\Invario\\\\Desktop\\\\Data_Downloads_byCompany\\\\Lime'\n",
    "lime_file=pd.DataFrame()\n",
    "entries = os.listdir(filepath)\n",
    "for entry in entries:\n",
    "    with open(filepath + \"\\\\\" + entry) as data_file:    \n",
    "        data_bike = json.load(data_file)  \n",
    "        data = data_bike[\"data\"]\n",
    "        #print(bike)\n",
    "        #bikes = data[\"bikes\"]\n",
    "        #print(bikes)\n",
    "        df = pd.DataFrame.from_dict(data, orient='columns')\n",
    "        #print(df)\n",
    "        df2 = pd.DataFrame(df.bikes.tolist(), columns=['bike_id', 'lat', 'lon',  'is_reserved',  'is_disabled', 'vehicle_type'])\n",
    "        df2['filename'] = os.path.basename(entry)\n",
    "        df2[['Month','Day','Time', 'Company']] = df2.filename.str.split(\"-\",expand=True,)\n",
    "    lime_file=lime_file.append(df2,ignore_index=True)\n",
    "\n",
    "print(lime_file)\n",
    "\n",
    "\n",
    " \n",
    "\n",
    "        \n",
    "    "
   ]
  },
  {
   "cell_type": "code",
   "execution_count": 2,
   "metadata": {},
   "outputs": [],
   "source": [
    "lime_file.to_csv('lime_consolidated.csv')"
   ]
  },
  {
   "cell_type": "code",
   "execution_count": null,
   "metadata": {},
   "outputs": [],
   "source": []
  }
 ],
 "metadata": {
  "kernelspec": {
   "display_name": "Python 3",
   "language": "python",
   "name": "python3"
  },
  "language_info": {
   "codemirror_mode": {
    "name": "ipython",
    "version": 3
   },
   "file_extension": ".py",
   "mimetype": "text/x-python",
   "name": "python",
   "nbconvert_exporter": "python",
   "pygments_lexer": "ipython3",
   "version": "3.7.4"
  }
 },
 "nbformat": 4,
 "nbformat_minor": 2
}
