{
 "cells": [
  {
   "cell_type": "code",
   "execution_count": 1,
   "metadata": {
    "scrolled": true
   },
   "outputs": [
    {
     "name": "stdout",
     "output_type": "stream",
     "text": [
      "                   type                              name  is_disabled  \\\n",
      "0      electric_scooter  3e1b515f10cb437494f2d142a2f9fc02            0   \n",
      "1      electric_scooter  0c6e83f9f479745a0666d6262d161b77            0   \n",
      "2      electric_scooter  068f4367e68e70238cffdda65699abc5            0   \n",
      "3      electric_scooter  be07ea6da321b5b54a34fc6d25342fe0            0   \n",
      "4      electric_scooter  9012fbea5692ec1392a2e9a3310813c8            0   \n",
      "...                 ...                               ...          ...   \n",
      "32654  electric_scooter  21699c06c85fcfb6d609c4b08e360d54            0   \n",
      "32655  electric_scooter  9645a265536c03a860b391ab6e5d4982            0   \n",
      "32656  electric_scooter  115d2cfd7ceb8d4d0a9b6f3abeac82f1            0   \n",
      "32657  electric_scooter  06f91fb5a5eb5e4a6e7bc8672cc4579c            0   \n",
      "32658  electric_scooter  4dee7ea3ed4c719e615f87d83dc0a7a1            0   \n",
      "\n",
      "             lon                           bike_id        lat  is_reserved  \\\n",
      "0     -76.929003  3e1b515f10cb437494f2d142a2f9fc02  38.891875            0   \n",
      "1     -76.931716  0c6e83f9f479745a0666d6262d161b77  38.883965            0   \n",
      "2     -76.930227  068f4367e68e70238cffdda65699abc5  38.895729            0   \n",
      "3     -76.936732  be07ea6da321b5b54a34fc6d25342fe0  38.883429            0   \n",
      "4     -76.937686  9012fbea5692ec1392a2e9a3310813c8  38.889574            0   \n",
      "...          ...                               ...        ...          ...   \n",
      "32654 -77.103204  21699c06c85fcfb6d609c4b08e360d54  38.883575            0   \n",
      "32655 -77.104671  9645a265536c03a860b391ab6e5d4982  38.883079            0   \n",
      "32656 -77.113578  115d2cfd7ceb8d4d0a9b6f3abeac82f1  38.868488            0   \n",
      "32657 -77.108846  06f91fb5a5eb5e4a6e7bc8672cc4579c  38.927035            0   \n",
      "32658 -77.121217  4dee7ea3ed4c719e615f87d83dc0a7a1  38.878328            0   \n",
      "\n",
      "                     filename Month Day    Time    Company  \n",
      "0      11-14-1215PM-Lyft.json    11  14  1215PM  Lyft.json  \n",
      "1      11-14-1215PM-Lyft.json    11  14  1215PM  Lyft.json  \n",
      "2      11-14-1215PM-Lyft.json    11  14  1215PM  Lyft.json  \n",
      "3      11-14-1215PM-Lyft.json    11  14  1215PM  Lyft.json  \n",
      "4      11-14-1215PM-Lyft.json    11  14  1215PM  Lyft.json  \n",
      "...                       ...   ...  ..     ...        ...  \n",
      "32654   11-22-930PM-Lyft.json    11  22   930PM  Lyft.json  \n",
      "32655   11-22-930PM-Lyft.json    11  22   930PM  Lyft.json  \n",
      "32656   11-22-930PM-Lyft.json    11  22   930PM  Lyft.json  \n",
      "32657   11-22-930PM-Lyft.json    11  22   930PM  Lyft.json  \n",
      "32658   11-22-930PM-Lyft.json    11  22   930PM  Lyft.json  \n",
      "\n",
      "[32659 rows x 12 columns]\n"
     ]
    }
   ],
   "source": [
    "import os\n",
    "import pandas as pd\n",
    "import json\n",
    "filepath = 'C:\\\\Users\\\\Invario\\\\Desktop\\\\Data_Downloads_byCompany\\\\Lyft'\n",
    "lyft_file=pd.DataFrame()\n",
    "entries = os.listdir(filepath)\n",
    "for entry in entries:\n",
    "    with open(filepath + \"\\\\\" + entry) as data_file:    \n",
    "        data_bike = json.load(data_file)  \n",
    "        data = data_bike[\"data\"]\n",
    "        #print(bike)\n",
    "        #bikes = data[\"bikes\"]\n",
    "        #print(bikes)\n",
    "        df = pd.DataFrame.from_dict(data, orient='columns')\n",
    "        #print(df)\n",
    "        df2 = pd.DataFrame(df.bikes.tolist(), columns=['type', 'name', 'is_disabled',  'lon',  'bike_id', 'lat', 'is_reserved'])\n",
    "        df2['filename'] = os.path.basename(entry)\n",
    "        df2[['Month','Day','Time', 'Company']] = df2.filename.str.split(\"-\",expand=True,)\n",
    "    lyft_file=lyft_file.append(df2,ignore_index=True)\n",
    "\n",
    "print(lyft_file)\n",
    "\n",
    "\n",
    " \n",
    "\n",
    "        \n",
    "    "
   ]
  },
  {
   "cell_type": "code",
   "execution_count": 2,
   "metadata": {},
   "outputs": [],
   "source": [
    "lyft_file.to_csv('lyft_consolidated.csv')"
   ]
  },
  {
   "cell_type": "code",
   "execution_count": null,
   "metadata": {},
   "outputs": [],
   "source": []
  }
 ],
 "metadata": {
  "kernelspec": {
   "display_name": "Python 3",
   "language": "python",
   "name": "python3"
  },
  "language_info": {
   "codemirror_mode": {
    "name": "ipython",
    "version": 3
   },
   "file_extension": ".py",
   "mimetype": "text/x-python",
   "name": "python",
   "nbconvert_exporter": "python",
   "pygments_lexer": "ipython3",
   "version": "3.7.4"
  }
 },
 "nbformat": 4,
 "nbformat_minor": 2
}
