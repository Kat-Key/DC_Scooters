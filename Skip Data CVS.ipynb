{
 "cells": [
  {
   "cell_type": "code",
   "execution_count": 6,
   "metadata": {
    "scrolled": true
   },
   "outputs": [
    {
     "name": "stdout",
     "output_type": "stream",
     "text": [
      "         Company Day Month    Time          bike_id                filename  \\\n",
      "0      Skip.json  14    11  1215PM  352897091533904  11-14-1215PM-Skip.json   \n",
      "1      Skip.json  14    11  1215PM  352897091477144  11-14-1215PM-Skip.json   \n",
      "2      Skip.json  14    11  1215PM  352897091477169  11-14-1215PM-Skip.json   \n",
      "3      Skip.json  14    11  1215PM  352897091534746  11-14-1215PM-Skip.json   \n",
      "4      Skip.json  14    11  1215PM  352897091537806  11-14-1215PM-Skip.json   \n",
      "...          ...  ..   ...     ...              ...                     ...   \n",
      "23512  Skip.json  22    11   930PM  352897091529803   11-22-930PM-Skip.json   \n",
      "23513  Skip.json  22    11   930PM              NaN   11-22-930PM-Skip.json   \n",
      "23514  Skip.json  22    11   930PM  352897091471089   11-22-930PM-Skip.json   \n",
      "23515  Skip.json  22    11   930PM  352897091343288   11-22-930PM-Skip.json   \n",
      "23516  Skip.json  22    11   930PM  352897091418148   11-22-930PM-Skip.json   \n",
      "\n",
      "       is_disabled  is_reserved        lat        lon vehicle_type  \n",
      "0                0            0  38.905278 -77.060025      scooter  \n",
      "1                0            0  38.889178 -77.028140      scooter  \n",
      "2                0            0  38.892255 -77.041072      scooter  \n",
      "3                0            0  38.914168 -77.028367      scooter  \n",
      "4                0            0  38.887731 -77.019028      scooter  \n",
      "...            ...          ...        ...        ...          ...  \n",
      "23512            0            0  38.892427 -77.002592      scooter  \n",
      "23513            0            0  38.901360 -77.029559      scooter  \n",
      "23514            0            0  38.881988 -77.036460      scooter  \n",
      "23515            0            0  38.891602 -77.008158      scooter  \n",
      "23516            0            0  38.954020 -77.035437      scooter  \n",
      "\n",
      "[23517 rows x 11 columns]\n"
     ]
    }
   ],
   "source": [
    "import os\n",
    "import pandas as pd\n",
    "import json\n",
    "filepath = 'C:\\\\Users\\\\Invario\\\\Desktop\\\\Data_Downloads_byCompany\\\\Skip'\n",
    "skip_file=pd.DataFrame()\n",
    "entries = os.listdir(filepath)\n",
    "for entry in entries:\n",
    "    with open(filepath + \"\\\\\" + entry) as data_file:    \n",
    "        data_bike = json.load(data_file)  \n",
    "        data = data_bike[\"bikes\"]\n",
    "        df = pd.DataFrame.from_dict(data, orient='columns')\n",
    "        df['filename'] = os.path.basename(entry)\n",
    "        df[['Month','Day','Time', 'Company']] = df.filename.str.split(\"-\",expand=True,)\n",
    "    skip_file=skip_file.append(df,ignore_index=True)\n",
    "\n",
    "print(skip_file)\n",
    "\n",
    "\n",
    " \n",
    "\n",
    "        \n",
    "    "
   ]
  },
  {
   "cell_type": "code",
   "execution_count": 7,
   "metadata": {},
   "outputs": [],
   "source": [
    "skip_file.to_csv('skip_consolidated.csv')"
   ]
  },
  {
   "cell_type": "code",
   "execution_count": null,
   "metadata": {},
   "outputs": [],
   "source": []
  }
 ],
 "metadata": {
  "kernelspec": {
   "display_name": "Python 3",
   "language": "python",
   "name": "python3"
  },
  "language_info": {
   "codemirror_mode": {
    "name": "ipython",
    "version": 3
   },
   "file_extension": ".py",
   "mimetype": "text/x-python",
   "name": "python",
   "nbconvert_exporter": "python",
   "pygments_lexer": "ipython3",
   "version": "3.7.4"
  }
 },
 "nbformat": 4,
 "nbformat_minor": 2
}
